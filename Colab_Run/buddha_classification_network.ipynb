{
  "nbformat": 4,
  "nbformat_minor": 0,
  "metadata": {
    "kernelspec": {
      "display_name": "Python 3",
      "language": "python",
      "name": "python3"
    },
    "language_info": {
      "codemirror_mode": {
        "name": "ipython",
        "version": 3
      },
      "file_extension": ".py",
      "mimetype": "text/x-python",
      "name": "python",
      "nbconvert_exporter": "python",
      "pygments_lexer": "ipython3",
      "version": "3.6.10"
    },
    "colab": {
      "name": "buddha_classification_network.ipynb",
      "provenance": []
    },
    "accelerator": "GPU"
  },
  "cells": [
    {
      "cell_type": "code",
      "metadata": {
        "id": "-t05jJsG87C_"
      },
      "source": [
        "from tensorflow.keras.preprocessing.image import ImageDataGenerator\n",
        "from tensorflow.keras.applications import VGG16\n",
        "from tensorflow.keras.layers import AveragePooling2D\n",
        "from tensorflow.keras.layers import Dropout\n",
        "from tensorflow.keras.layers import Flatten\n",
        "from tensorflow.keras.layers import Dense\n",
        "from tensorflow.keras.layers import Input\n",
        "from tensorflow.keras.models import Model\n",
        "from tensorflow.keras.optimizers import Adam\n",
        "from tensorflow.keras.utils import to_categorical\n",
        "from sklearn.preprocessing import LabelBinarizer\n",
        "from sklearn.model_selection import train_test_split\n",
        "from sklearn.metrics import classification_report\n",
        "from sklearn.metrics import confusion_matrix\n",
        "from imutils import paths\n",
        "import matplotlib.pyplot as plt\n",
        "import numpy as np\n",
        "import argparse\n",
        "import cv2\n",
        "import os"
      ],
      "execution_count": 2,
      "outputs": []
    },
    {
      "cell_type": "code",
      "metadata": {
        "colab": {
          "base_uri": "https://localhost:8080/"
        },
        "id": "_Z-sNXJK87DF",
        "outputId": "cc4c83b0-a011-42d4-ade3-477ce9827138"
      },
      "source": [
        "ls"
      ],
      "execution_count": 3,
      "outputs": [
        {
          "output_type": "stream",
          "text": [
            "Dataset.zip  \u001b[0m\u001b[01;34msample_data\u001b[0m/\n"
          ],
          "name": "stdout"
        }
      ]
    },
    {
      "cell_type": "code",
      "metadata": {
        "id": "1KPtueDd9hsE"
      },
      "source": [
        "import zipfile\n",
        "with zipfile.ZipFile('Dataset.zip', 'r') as zip_ref:\n",
        "    zip_ref.extractall('.')"
      ],
      "execution_count": 4,
      "outputs": []
    },
    {
      "cell_type": "code",
      "metadata": {
        "id": "gEHxetKB87DG"
      },
      "source": [
        "data = []\n",
        "labels = []"
      ],
      "execution_count": 5,
      "outputs": []
    },
    {
      "cell_type": "code",
      "metadata": {
        "colab": {
          "base_uri": "https://localhost:8080/"
        },
        "id": "XVmtu6fH87DG",
        "outputId": "57ea5722-6d78-4400-c41a-7d9911ce68b5"
      },
      "source": [
        "paths_list = list(paths.list_images('./Dataset'))\n",
        "paths_list[0:10]"
      ],
      "execution_count": 6,
      "outputs": [
        {
          "output_type": "execute_result",
          "data": {
            "text/plain": [
              "['./Dataset/NB/128.jpg',\n",
              " './Dataset/NB/233.jpg',\n",
              " './Dataset/NB/480.jpg',\n",
              " './Dataset/NB/115.jpg',\n",
              " './Dataset/NB/324.jpg',\n",
              " './Dataset/NB/704.jpg',\n",
              " './Dataset/NB/394.jpg',\n",
              " './Dataset/NB/189.jpg',\n",
              " './Dataset/NB/416.jpg',\n",
              " './Dataset/NB/415.jpg']"
            ]
          },
          "metadata": {
            "tags": []
          },
          "execution_count": 6
        }
      ]
    },
    {
      "cell_type": "code",
      "metadata": {
        "colab": {
          "base_uri": "https://localhost:8080/",
          "height": 35
        },
        "id": "xDEF9rNL87DK",
        "outputId": "fd48662b-9ef2-45f1-fc65-ce7d1074d542"
      },
      "source": [
        "label = paths_list[0].split('/')[-2]\n",
        "label"
      ],
      "execution_count": 7,
      "outputs": [
        {
          "output_type": "execute_result",
          "data": {
            "application/vnd.google.colaboratory.intrinsic+json": {
              "type": "string"
            },
            "text/plain": [
              "'NB'"
            ]
          },
          "metadata": {
            "tags": []
          },
          "execution_count": 7
        }
      ]
    },
    {
      "cell_type": "code",
      "metadata": {
        "id": "SCSnNEHT87DN"
      },
      "source": [
        "for i in paths_list:\n",
        "    \n",
        "    \n",
        "    label = i.split('/')[-2]\n",
        "    \n",
        "    image = cv2.imread(i)\n",
        "    image = cv2.cvtColor(image, cv2.COLOR_BGR2RGB)\n",
        "    image = cv2.resize(image, (224, 224))\n",
        "    \n",
        "    data.append(image)\n",
        "    \n",
        "    labels.append(label)"
      ],
      "execution_count": 8,
      "outputs": []
    },
    {
      "cell_type": "code",
      "metadata": {
        "id": "6wtjUqmH87DN"
      },
      "source": [
        "\n",
        "data = np.array(data)/255.0\n",
        "labels = np.array(labels)"
      ],
      "execution_count": 9,
      "outputs": []
    },
    {
      "cell_type": "code",
      "metadata": {
        "id": "qhiY_Ud587DN"
      },
      "source": [
        "lb = LabelBinarizer()\n",
        "labels = lb.fit_transform(labels)\n",
        "labels = to_categorical(labels)"
      ],
      "execution_count": 10,
      "outputs": []
    },
    {
      "cell_type": "code",
      "metadata": {
        "id": "DZrikC1487DO"
      },
      "source": [
        "mygen = ImageDataGenerator(rotation_range=15,\n",
        "                           fill_mode=\"nearest\",\n",
        "                           horizontal_flip = True,\n",
        "                          )"
      ],
      "execution_count": 11,
      "outputs": []
    },
    {
      "cell_type": "code",
      "metadata": {
        "colab": {
          "base_uri": "https://localhost:8080/"
        },
        "id": "0m5i837y87DO",
        "outputId": "478012ab-ce15-4693-c7e3-b5f64815c079"
      },
      "source": [
        "base = VGG16(weights=\"imagenet\", include_top=False,input_tensor=Input(shape=(224, 224, 3)))"
      ],
      "execution_count": 12,
      "outputs": [
        {
          "output_type": "stream",
          "text": [
            "Downloading data from https://storage.googleapis.com/tensorflow/keras-applications/vgg16/vgg16_weights_tf_dim_ordering_tf_kernels_notop.h5\n",
            "58892288/58889256 [==============================] - 0s 0us/step\n"
          ],
          "name": "stdout"
        }
      ]
    },
    {
      "cell_type": "code",
      "metadata": {
        "colab": {
          "base_uri": "https://localhost:8080/"
        },
        "id": "tW_cE2ZE87DO",
        "outputId": "7d628811-37ac-49b5-8df4-2d7d64a181ed"
      },
      "source": [
        "base.summary()"
      ],
      "execution_count": 13,
      "outputs": [
        {
          "output_type": "stream",
          "text": [
            "Model: \"vgg16\"\n",
            "_________________________________________________________________\n",
            "Layer (type)                 Output Shape              Param #   \n",
            "=================================================================\n",
            "input_1 (InputLayer)         [(None, 224, 224, 3)]     0         \n",
            "_________________________________________________________________\n",
            "block1_conv1 (Conv2D)        (None, 224, 224, 64)      1792      \n",
            "_________________________________________________________________\n",
            "block1_conv2 (Conv2D)        (None, 224, 224, 64)      36928     \n",
            "_________________________________________________________________\n",
            "block1_pool (MaxPooling2D)   (None, 112, 112, 64)      0         \n",
            "_________________________________________________________________\n",
            "block2_conv1 (Conv2D)        (None, 112, 112, 128)     73856     \n",
            "_________________________________________________________________\n",
            "block2_conv2 (Conv2D)        (None, 112, 112, 128)     147584    \n",
            "_________________________________________________________________\n",
            "block2_pool (MaxPooling2D)   (None, 56, 56, 128)       0         \n",
            "_________________________________________________________________\n",
            "block3_conv1 (Conv2D)        (None, 56, 56, 256)       295168    \n",
            "_________________________________________________________________\n",
            "block3_conv2 (Conv2D)        (None, 56, 56, 256)       590080    \n",
            "_________________________________________________________________\n",
            "block3_conv3 (Conv2D)        (None, 56, 56, 256)       590080    \n",
            "_________________________________________________________________\n",
            "block3_pool (MaxPooling2D)   (None, 28, 28, 256)       0         \n",
            "_________________________________________________________________\n",
            "block4_conv1 (Conv2D)        (None, 28, 28, 512)       1180160   \n",
            "_________________________________________________________________\n",
            "block4_conv2 (Conv2D)        (None, 28, 28, 512)       2359808   \n",
            "_________________________________________________________________\n",
            "block4_conv3 (Conv2D)        (None, 28, 28, 512)       2359808   \n",
            "_________________________________________________________________\n",
            "block4_pool (MaxPooling2D)   (None, 14, 14, 512)       0         \n",
            "_________________________________________________________________\n",
            "block5_conv1 (Conv2D)        (None, 14, 14, 512)       2359808   \n",
            "_________________________________________________________________\n",
            "block5_conv2 (Conv2D)        (None, 14, 14, 512)       2359808   \n",
            "_________________________________________________________________\n",
            "block5_conv3 (Conv2D)        (None, 14, 14, 512)       2359808   \n",
            "_________________________________________________________________\n",
            "block5_pool (MaxPooling2D)   (None, 7, 7, 512)         0         \n",
            "=================================================================\n",
            "Total params: 14,714,688\n",
            "Trainable params: 14,714,688\n",
            "Non-trainable params: 0\n",
            "_________________________________________________________________\n"
          ],
          "name": "stdout"
        }
      ]
    },
    {
      "cell_type": "code",
      "metadata": {
        "id": "ezJTd6Uc87DP"
      },
      "source": [
        "from tensorflow.keras.layers import MaxPooling2D"
      ],
      "execution_count": 14,
      "outputs": []
    },
    {
      "cell_type": "code",
      "metadata": {
        "id": "rwWsgiwo87DP"
      },
      "source": [
        "top = base.output\n",
        "top = AveragePooling2D(pool_size=(4, 4))(top)\n",
        "top = Flatten(name=\"flatten\")(top)\n",
        "top = Dropout(0.5)(top)\n",
        "top = Dense(64, activation=\"relu\")(top)\n",
        "top = Dense(32, activation=\"relu\")(top)\n",
        "top = Dense(2, activation=\"softmax\")(top)"
      ],
      "execution_count": 25,
      "outputs": []
    },
    {
      "cell_type": "code",
      "metadata": {
        "id": "HNpjbDuG87DW"
      },
      "source": [
        "model = Model(inputs = base.input, outputs=top)"
      ],
      "execution_count": 26,
      "outputs": []
    },
    {
      "cell_type": "code",
      "metadata": {
        "colab": {
          "base_uri": "https://localhost:8080/"
        },
        "id": "BX3sVz0787DW",
        "outputId": "61d82ac8-2d9d-4ad6-c76d-8c21eb4daf21"
      },
      "source": [
        "model.summary()\n"
      ],
      "execution_count": 27,
      "outputs": [
        {
          "output_type": "stream",
          "text": [
            "Model: \"model_1\"\n",
            "_________________________________________________________________\n",
            "Layer (type)                 Output Shape              Param #   \n",
            "=================================================================\n",
            "input_1 (InputLayer)         [(None, 224, 224, 3)]     0         \n",
            "_________________________________________________________________\n",
            "block1_conv1 (Conv2D)        (None, 224, 224, 64)      1792      \n",
            "_________________________________________________________________\n",
            "block1_conv2 (Conv2D)        (None, 224, 224, 64)      36928     \n",
            "_________________________________________________________________\n",
            "block1_pool (MaxPooling2D)   (None, 112, 112, 64)      0         \n",
            "_________________________________________________________________\n",
            "block2_conv1 (Conv2D)        (None, 112, 112, 128)     73856     \n",
            "_________________________________________________________________\n",
            "block2_conv2 (Conv2D)        (None, 112, 112, 128)     147584    \n",
            "_________________________________________________________________\n",
            "block2_pool (MaxPooling2D)   (None, 56, 56, 128)       0         \n",
            "_________________________________________________________________\n",
            "block3_conv1 (Conv2D)        (None, 56, 56, 256)       295168    \n",
            "_________________________________________________________________\n",
            "block3_conv2 (Conv2D)        (None, 56, 56, 256)       590080    \n",
            "_________________________________________________________________\n",
            "block3_conv3 (Conv2D)        (None, 56, 56, 256)       590080    \n",
            "_________________________________________________________________\n",
            "block3_pool (MaxPooling2D)   (None, 28, 28, 256)       0         \n",
            "_________________________________________________________________\n",
            "block4_conv1 (Conv2D)        (None, 28, 28, 512)       1180160   \n",
            "_________________________________________________________________\n",
            "block4_conv2 (Conv2D)        (None, 28, 28, 512)       2359808   \n",
            "_________________________________________________________________\n",
            "block4_conv3 (Conv2D)        (None, 28, 28, 512)       2359808   \n",
            "_________________________________________________________________\n",
            "block4_pool (MaxPooling2D)   (None, 14, 14, 512)       0         \n",
            "_________________________________________________________________\n",
            "block5_conv1 (Conv2D)        (None, 14, 14, 512)       2359808   \n",
            "_________________________________________________________________\n",
            "block5_conv2 (Conv2D)        (None, 14, 14, 512)       2359808   \n",
            "_________________________________________________________________\n",
            "block5_conv3 (Conv2D)        (None, 14, 14, 512)       2359808   \n",
            "_________________________________________________________________\n",
            "block5_pool (MaxPooling2D)   (None, 7, 7, 512)         0         \n",
            "_________________________________________________________________\n",
            "average_pooling2d_1 (Average (None, 1, 1, 512)         0         \n",
            "_________________________________________________________________\n",
            "flatten (Flatten)            (None, 512)               0         \n",
            "_________________________________________________________________\n",
            "dropout_1 (Dropout)          (None, 512)               0         \n",
            "_________________________________________________________________\n",
            "dense_2 (Dense)              (None, 64)                32832     \n",
            "_________________________________________________________________\n",
            "dense_3 (Dense)              (None, 32)                2080      \n",
            "_________________________________________________________________\n",
            "dense_4 (Dense)              (None, 2)                 66        \n",
            "=================================================================\n",
            "Total params: 14,749,666\n",
            "Trainable params: 34,978\n",
            "Non-trainable params: 14,714,688\n",
            "_________________________________________________________________\n"
          ],
          "name": "stdout"
        }
      ]
    },
    {
      "cell_type": "code",
      "metadata": {
        "id": "uNxqOViS87Da"
      },
      "source": [
        "for i in base.layers:\n",
        "    i.trainable = False"
      ],
      "execution_count": 28,
      "outputs": []
    },
    {
      "cell_type": "code",
      "metadata": {
        "id": "QDMLdjYL87Da"
      },
      "source": [
        "\n",
        "int_lr = 1e-3\n",
        "epoch = 25\n",
        "bs= 8"
      ],
      "execution_count": 29,
      "outputs": []
    },
    {
      "cell_type": "code",
      "metadata": {
        "id": "cHDGBgmR87Da"
      },
      "source": [
        "adm = Adam(lr=int_lr, decay=int_lr / epoch)"
      ],
      "execution_count": 30,
      "outputs": []
    },
    {
      "cell_type": "code",
      "metadata": {
        "id": "Iha5DXrv87Db"
      },
      "source": [
        "model.compile(loss=\"binary_crossentropy\", optimizer=adm,metrics=[\"accuracy\"])"
      ],
      "execution_count": 31,
      "outputs": []
    },
    {
      "cell_type": "code",
      "metadata": {
        "colab": {
          "base_uri": "https://localhost:8080/"
        },
        "id": "xpr8AIsO87Db",
        "outputId": "340fc903-456e-471f-96a4-12d65882e28a"
      },
      "source": [
        "labels"
      ],
      "execution_count": 32,
      "outputs": [
        {
          "output_type": "execute_result",
          "data": {
            "text/plain": [
              "array([[0., 1.],\n",
              "       [0., 1.],\n",
              "       [0., 1.],\n",
              "       ...,\n",
              "       [1., 0.],\n",
              "       [1., 0.],\n",
              "       [1., 0.]], dtype=float32)"
            ]
          },
          "metadata": {
            "tags": []
          },
          "execution_count": 32
        }
      ]
    },
    {
      "cell_type": "code",
      "metadata": {
        "id": "w7SBRp9Y87Db"
      },
      "source": [
        "(trainX, testX, trainY, testY) = train_test_split(data, labels,test_size=0.20, stratify=labels, random_state=42)"
      ],
      "execution_count": 33,
      "outputs": []
    },
    {
      "cell_type": "code",
      "metadata": {
        "colab": {
          "base_uri": "https://localhost:8080/"
        },
        "id": "nUVwdUpn87Db",
        "outputId": "aefe099f-4b6a-4912-ba84-31388439904a"
      },
      "source": [
        "fit_model = model.fit_generator(mygen.flow(trainX, trainY, batch_size=bs),\n",
        "                        steps_per_epoch=len(trainX) // bs,\n",
        "                        validation_data=(testX, testY),\n",
        "                        validation_steps=len(testX) // bs,\n",
        "                        epochs=epoch)"
      ],
      "execution_count": 34,
      "outputs": [
        {
          "output_type": "stream",
          "text": [
            "/usr/local/lib/python3.6/dist-packages/tensorflow/python/keras/engine/training.py:1844: UserWarning: `Model.fit_generator` is deprecated and will be removed in a future version. Please use `Model.fit`, which supports generators.\n",
            "  warnings.warn('`Model.fit_generator` is deprecated and '\n"
          ],
          "name": "stderr"
        },
        {
          "output_type": "stream",
          "text": [
            "Epoch 1/25\n",
            "129/129 [==============================] - ETA: 0s - loss: 0.6836 - accuracy: 0.5791WARNING:tensorflow:Your input ran out of data; interrupting training. Make sure that your dataset or generator can generate at least `steps_per_epoch * epochs` batches (in this case, 32 batches). You may need to use the repeat() function when building your dataset.\n",
            "129/129 [==============================] - 14s 104ms/step - loss: 0.6835 - accuracy: 0.5792 - val_loss: 0.6779 - val_accuracy: 0.5714\n",
            "Epoch 2/25\n",
            "129/129 [==============================] - 12s 90ms/step - loss: 0.6553 - accuracy: 0.6260\n",
            "Epoch 3/25\n",
            "129/129 [==============================] - 12s 91ms/step - loss: 0.6040 - accuracy: 0.6616\n",
            "Epoch 4/25\n",
            "129/129 [==============================] - 12s 90ms/step - loss: 0.5671 - accuracy: 0.7213\n",
            "Epoch 5/25\n",
            "129/129 [==============================] - 12s 90ms/step - loss: 0.5862 - accuracy: 0.6830\n",
            "Epoch 6/25\n",
            "129/129 [==============================] - 12s 90ms/step - loss: 0.5629 - accuracy: 0.7039\n",
            "Epoch 7/25\n",
            "129/129 [==============================] - 12s 90ms/step - loss: 0.5382 - accuracy: 0.7365\n",
            "Epoch 8/25\n",
            "129/129 [==============================] - 12s 91ms/step - loss: 0.5551 - accuracy: 0.7120\n",
            "Epoch 9/25\n",
            "129/129 [==============================] - 12s 90ms/step - loss: 0.5514 - accuracy: 0.7106\n",
            "Epoch 10/25\n",
            "129/129 [==============================] - 12s 90ms/step - loss: 0.5499 - accuracy: 0.7137\n",
            "Epoch 11/25\n",
            "129/129 [==============================] - 12s 90ms/step - loss: 0.5455 - accuracy: 0.7283\n",
            "Epoch 12/25\n",
            "129/129 [==============================] - 12s 90ms/step - loss: 0.5459 - accuracy: 0.7032\n",
            "Epoch 13/25\n",
            "129/129 [==============================] - 12s 90ms/step - loss: 0.5753 - accuracy: 0.7336\n",
            "Epoch 14/25\n",
            "129/129 [==============================] - 12s 91ms/step - loss: 0.5198 - accuracy: 0.7403\n",
            "Epoch 15/25\n",
            "129/129 [==============================] - 12s 90ms/step - loss: 0.5056 - accuracy: 0.7489\n",
            "Epoch 16/25\n",
            "129/129 [==============================] - 12s 91ms/step - loss: 0.5344 - accuracy: 0.7214\n",
            "Epoch 17/25\n",
            "129/129 [==============================] - 12s 90ms/step - loss: 0.5062 - accuracy: 0.7604\n",
            "Epoch 18/25\n",
            "129/129 [==============================] - 12s 90ms/step - loss: 0.4867 - accuracy: 0.7568\n",
            "Epoch 19/25\n",
            "129/129 [==============================] - 12s 90ms/step - loss: 0.5285 - accuracy: 0.7301\n",
            "Epoch 20/25\n",
            "129/129 [==============================] - 12s 91ms/step - loss: 0.5183 - accuracy: 0.7390\n",
            "Epoch 21/25\n",
            "129/129 [==============================] - 12s 91ms/step - loss: 0.5252 - accuracy: 0.7517\n",
            "Epoch 22/25\n",
            "129/129 [==============================] - 12s 90ms/step - loss: 0.4979 - accuracy: 0.7507\n",
            "Epoch 23/25\n",
            "129/129 [==============================] - 12s 90ms/step - loss: 0.5207 - accuracy: 0.7461\n",
            "Epoch 24/25\n",
            "129/129 [==============================] - 12s 90ms/step - loss: 0.4889 - accuracy: 0.7685\n",
            "Epoch 25/25\n",
            "129/129 [==============================] - 12s 92ms/step - loss: 0.4949 - accuracy: 0.7609\n"
          ],
          "name": "stdout"
        }
      ]
    },
    {
      "cell_type": "code",
      "metadata": {
        "id": "JIxOcr5x87Db"
      },
      "source": [
        "predIdxs = model.predict(testX, batch_size=bs)"
      ],
      "execution_count": 35,
      "outputs": []
    },
    {
      "cell_type": "code",
      "metadata": {
        "id": "vyouwEJqAE2-"
      },
      "source": [
        "predId = np.argmax(predIdxs, axis=1)"
      ],
      "execution_count": 36,
      "outputs": []
    },
    {
      "cell_type": "code",
      "metadata": {
        "colab": {
          "base_uri": "https://localhost:8080/"
        },
        "id": "s7raenJyAJ-G",
        "outputId": "26e49a33-8cec-44c1-856d-9caf5b8dcf4c"
      },
      "source": [
        "print(classification_report(testY.argmax(axis=1), predId,\n",
        "\ttarget_names=lb.classes_))"
      ],
      "execution_count": 37,
      "outputs": [
        {
          "output_type": "stream",
          "text": [
            "              precision    recall  f1-score   support\n",
            "\n",
            "           B       0.62      0.82      0.71       105\n",
            "          NB       0.84      0.66      0.74       154\n",
            "\n",
            "    accuracy                           0.73       259\n",
            "   macro avg       0.73      0.74      0.72       259\n",
            "weighted avg       0.75      0.73      0.73       259\n",
            "\n"
          ],
          "name": "stdout"
        }
      ]
    },
    {
      "cell_type": "code",
      "metadata": {
        "id": "mFOFlOKSAMmR"
      },
      "source": [
        "c_m = confusion_matrix(testY.argmax(axis=1), predId)"
      ],
      "execution_count": 38,
      "outputs": []
    },
    {
      "cell_type": "code",
      "metadata": {
        "colab": {
          "base_uri": "https://localhost:8080/"
        },
        "id": "egcic7YHAPMo",
        "outputId": "13982f72-ade9-429a-eaca-eed645265034"
      },
      "source": [
        "total = sum(sum(c_m))\n",
        "acc = (c_m[0, 0] + c_m[1, 1]) / total\n",
        "sensitivity = c_m[0, 0] / (c_m[0, 0] + c_m[0, 1])\n",
        "specificity = c_m[1, 1] / (c_m[1, 0] + c_m[1, 1])\n",
        "print(c_m)\n",
        "print(\"acc: {:.4f}\".format(acc))\n",
        "print(\"sensitivity: {:.4f}\".format(sensitivity))\n",
        "print(\"specificity: {:.4f}\".format(specificity))"
      ],
      "execution_count": 39,
      "outputs": [
        {
          "output_type": "stream",
          "text": [
            "[[ 86  19]\n",
            " [ 52 102]]\n",
            "acc: 0.7259\n",
            "sensitivity: 0.8190\n",
            "specificity: 0.6623\n"
          ],
          "name": "stdout"
        }
      ]
    },
    {
      "cell_type": "code",
      "metadata": {
        "colab": {
          "base_uri": "https://localhost:8080/",
          "height": 462
        },
        "id": "38TyOaJaAZs4",
        "outputId": "f6ddd656-c9a0-4975-d80e-b4fe529aa7eb"
      },
      "source": [
        "N = epoch\n",
        "plt.style.use(\"ggplot\")\n",
        "plt.rcParams[\"figure.figsize\"]=10,7\n",
        "plt.figure()\n",
        "plt.plot(np.arange(0, N), fit_model.history[\"loss\"], label=\"train_loss\")\n",
        "#plt.plot(np.arange(0, N), fit_model.history[\"val_loss\"], label=\"val_loss\")\n",
        "plt.plot(np.arange(0, N), fit_model.history[\"accuracy\"], label=\"train_acc\")\n",
        "#plt.plot(np.arange(0, N), fit_model.history[\"val_accuracy\"], label=\"val_acc\")\n",
        "plt.title(\"Training Loss and Accuracy on COVID-19 Dataset\")\n",
        "plt.xlabel(\"Epoch #\")\n",
        "plt.ylabel(\"Loss/Accuracy\")\n",
        "plt.legend(loc=\"lower left\")\n",
        "plt.savefig(\"figure\")"
      ],
      "execution_count": 41,
      "outputs": [
        {
          "output_type": "display_data",
          "data": {
            "image/png": "[encoded data removed]",
            "text/plain": [
              "<Figure size 720x504 with 1 Axes>"
            ]
          },
          "metadata": {
            "tags": []
          }
        }
      ]
    },
    {
      "cell_type": "code",
      "metadata": {
        "id": "uQVPk0pOAc_v"
      },
      "source": [
        "\n",
        "model.save('buddha_classification.h5')"
      ],
      "execution_count": 42,
      "outputs": []
    },
    {
      "cell_type": "code",
      "metadata": {
        "id": "s0XnPI3yAqsj"
      },
      "source": [
        "model.save('classification.h5')"
      ],
      "execution_count": 43,
      "outputs": []
    },
    {
      "cell_type": "code",
      "metadata": {
        "id": "X8mwVTgHCCZe"
      },
      "source": [
        ""
      ],
      "execution_count": null,
      "outputs": []
    }
  ]
}