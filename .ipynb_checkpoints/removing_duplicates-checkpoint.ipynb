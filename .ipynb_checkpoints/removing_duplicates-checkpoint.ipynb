{
 "cells": [
  {
   "cell_type": "code",
   "execution_count": 3,
   "metadata": {},
   "outputs": [],
   "source": [
    "from imutils import paths\n",
    "import numpy as np\n",
    "import argparse\n",
    "import cv2\n",
    "import os"
   ]
  },
  {
   "cell_type": "code",
   "execution_count": 5,
   "metadata": {},
   "outputs": [],
   "source": [
    "def dhash(image, hashSize=8):\n",
    "    gray = cv2.cvtColor(image, cv2.COLOR_BGR2GRAY)\n",
    "    resized = cv2.resize(gray, (hashSize + 1, hashSize))\n",
    "    # compute the (relative) horizontal gradient between adjacent\n",
    "    # column pixels\n",
    "    diff = resized[:, 1:] > resized[:, :-1]\n",
    "\n",
    "    return sum([2 ** i for (i, v) in enumerate(diff.flatten()) if v])"
   ]
  },
  {
   "cell_type": "code",
   "execution_count": 14,
   "metadata": {},
   "outputs": [
    {
     "name": "stdout",
     "output_type": "stream",
     "text": [
      "\u001b[34mDataset\u001b[m\u001b[m/                   removing_duplicates.ipynb\r\n",
      "Settingupdata.ipynb        synthetic_mk2.ipynb\r\n",
      "\u001b[34mSynthetic_Data\u001b[m\u001b[m/\r\n"
     ]
    }
   ],
   "source": [
    "ls"
   ]
  },
  {
   "cell_type": "code",
   "execution_count": 15,
   "metadata": {},
   "outputs": [],
   "source": [
    "dataset_path = './Dataset/NB'"
   ]
  },
  {
   "cell_type": "code",
   "execution_count": 16,
   "metadata": {},
   "outputs": [],
   "source": [
    "imagePaths = list(paths.list_images(dataset_path))\n",
    "hashes = {}\n",
    "# loop over our image paths\n",
    "for imagePath in imagePaths:\n",
    "\t# load the input image and compute the hash\n",
    "\timage = cv2.imread(imagePath)\n",
    "\th = dhash(image)\n",
    "\t# grab all image paths with that hash, add the current image\n",
    "\t# path to it, and store the list back in the hashes dictionary\n",
    "\tp = hashes.get(h, [])\n",
    "\tp.append(imagePath)\n",
    "\thashes[h] = p"
   ]
  },
  {
   "cell_type": "code",
   "execution_count": 17,
   "metadata": {},
   "outputs": [],
   "source": [
    "remove = 1"
   ]
  },
  {
   "cell_type": "code",
   "execution_count": 18,
   "metadata": {},
   "outputs": [],
   "source": [
    "for (h, hashedPaths) in hashes.items():\n",
    "\t# check to see if there is more than one image with the same hash\n",
    "\tif len(hashedPaths) > 1:\n",
    "\t\t# check to see if this is a dry run\n",
    "\t\tif remove <= 0:\n",
    "\t\t\t# initialize a montage to store all images with the same\n",
    "\t\t\t# hash\n",
    "\t\t\tmontage = None\n",
    "\t\t\t# loop over all image paths with the same hash\n",
    "\t\t\tfor p in hashedPaths:\n",
    "\t\t\t\t# load the input image and resize it to a fixed width\n",
    "\t\t\t\t# and heightG\n",
    "\t\t\t\timage = cv2.imread(p)\n",
    "\t\t\t\timage = cv2.resize(image, (150, 150))\n",
    "\t\t\t\t# if our montage is None, initialize it\n",
    "\t\t\t\tif montage is None:\n",
    "\t\t\t\t\tmontage = image\n",
    "\t\t\t\t# otherwise, horizontally stack the images\n",
    "\t\t\t\telse:\n",
    "\t\t\t\t\tmontage = np.hstack([montage, image])\n",
    "# otherwise, we'll be removing the duplicate images\n",
    "\t\telse:\n",
    "\t\t\t# loop over all image paths with the same hash *except*\n",
    "\t\t\t# for the first image in the list (since we want to keep\n",
    "\t\t\t# one, and only one, of the duplicate images)\n",
    "\t\t\tfor p in hashedPaths[1:]:\n",
    "\t\t\t\tos.remove(p)"
   ]
  },
  {
   "cell_type": "code",
   "execution_count": null,
   "metadata": {},
   "outputs": [],
   "source": []
  }
 ],
 "metadata": {
  "kernelspec": {
   "display_name": "Python 3",
   "language": "python",
   "name": "python3"
  },
  "language_info": {
   "codemirror_mode": {
    "name": "ipython",
    "version": 3
   },
   "file_extension": ".py",
   "mimetype": "text/x-python",
   "name": "python",
   "nbconvert_exporter": "python",
   "pygments_lexer": "ipython3",
   "version": "3.6.10"
  }
 },
 "nbformat": 4,
 "nbformat_minor": 4
}
