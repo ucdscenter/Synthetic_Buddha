{
 "cells": [
  {
   "cell_type": "code",
   "execution_count": 152,
   "metadata": {},
   "outputs": [],
   "source": [
    "import requests\n",
    "import matplotlib.pyplot as plt\n",
    "from PIL import Image\n",
    "from io import BytesIO\n",
    "import os\n",
    "\n",
    "subscription_key = '41372f3b50ab4e50ad631d0e883a6b87'\n",
    "#search_url = \"https://api.cognitive.microsoft.com/bing/v7.0/images/search\"\n",
    "search_url = \"https://api.bing.microsoft.com/v7.0/images/search\"\n",
    "search_term = \"norse statues\""
   ]
  },
  {
   "cell_type": "code",
   "execution_count": 153,
   "metadata": {},
   "outputs": [],
   "source": [
    "#current_dr = os.getcwd()"
   ]
  },
  {
   "cell_type": "code",
   "execution_count": 154,
   "metadata": {},
   "outputs": [],
   "source": [
    "os.chdir(current_dr)"
   ]
  },
  {
   "cell_type": "code",
   "execution_count": 155,
   "metadata": {},
   "outputs": [
    {
     "name": "stdout",
     "output_type": "stream",
     "text": [
      "\u001b[34mSynthetic_data\u001b[m\u001b[m/  \u001b[34mSynthetic_data4\u001b[m\u001b[m/ \u001b[34mnot_buddha1\u001b[m\u001b[m/     \u001b[34mnot_buddha5\u001b[m\u001b[m/\r\n",
      "\u001b[34mSynthetic_data1\u001b[m\u001b[m/ \u001b[34mSynthetic_data5\u001b[m\u001b[m/ \u001b[34mnot_buddha2\u001b[m\u001b[m/     \u001b[34mnot_buddha6\u001b[m\u001b[m/\r\n",
      "\u001b[34mSynthetic_data2\u001b[m\u001b[m/ \u001b[34mSynthetic_data6\u001b[m\u001b[m/ \u001b[34mnot_buddha3\u001b[m\u001b[m/\r\n",
      "\u001b[34mSynthetic_data3\u001b[m\u001b[m/ \u001b[34mSynthetic_data7\u001b[m\u001b[m/ \u001b[34mnot_buddha4\u001b[m\u001b[m/\r\n"
     ]
    }
   ],
   "source": [
    "ls"
   ]
  },
  {
   "cell_type": "code",
   "execution_count": 156,
   "metadata": {},
   "outputs": [],
   "source": [
    "GROUP_SIZE = 500"
   ]
  },
  {
   "cell_type": "code",
   "execution_count": 157,
   "metadata": {},
   "outputs": [],
   "source": [
    "headers = {\"Ocp-Apim-Subscription-Key\" : subscription_key}"
   ]
  },
  {
   "cell_type": "code",
   "execution_count": 158,
   "metadata": {},
   "outputs": [],
   "source": [
    "params  = {\"q\": search_term, \"license\": \"public\", \"imageType\": \"photo\",\"count\": GROUP_SIZE}"
   ]
  },
  {
   "cell_type": "code",
   "execution_count": 159,
   "metadata": {},
   "outputs": [],
   "source": [
    "response = requests.get(search_url, headers=headers, params=params)\n",
    "response.raise_for_status()\n",
    "search_results = response.json()\n",
    "thumbnail_urls = [img[\"thumbnailUrl\"] for img in search_results[\"value\"][:1600]]"
   ]
  },
  {
   "cell_type": "code",
   "execution_count": 160,
   "metadata": {},
   "outputs": [
    {
     "data": {
      "text/plain": [
       "150"
      ]
     },
     "execution_count": 160,
     "metadata": {},
     "output_type": "execute_result"
    }
   ],
   "source": [
    "len(thumbnail_urls)"
   ]
  },
  {
   "cell_type": "code",
   "execution_count": 161,
   "metadata": {},
   "outputs": [],
   "source": [
    "import os\n",
    "os.chdir('not_buddha6')\n",
    "count = 0\n",
    "for i in thumbnail_urls:\n",
    "    image_data = requests.get(i)\n",
    "    image_data.raise_for_status()\n",
    "    im1 = Image.open(BytesIO(image_data.content))\n",
    "    im1 = im1.save(str(count)+\".jpg\") \n",
    "    count = count + 1\n"
   ]
  },
  {
   "cell_type": "code",
   "execution_count": null,
   "metadata": {},
   "outputs": [],
   "source": []
  }
 ],
 "metadata": {
  "kernelspec": {
   "display_name": "Python 3",
   "language": "python",
   "name": "python3"
  },
  "language_info": {
   "codemirror_mode": {
    "name": "ipython",
    "version": 3
   },
   "file_extension": ".py",
   "mimetype": "text/x-python",
   "name": "python",
   "nbconvert_exporter": "python",
   "pygments_lexer": "ipython3",
   "version": "3.6.10"
  }
 },
 "nbformat": 4,
 "nbformat_minor": 4
}
