{
 "cells": [
  {
   "cell_type": "code",
   "execution_count": 127,
   "metadata": {},
   "outputs": [],
   "source": [
    "import requests\n",
    "import matplotlib.pyplot as plt\n",
    "from PIL import Image\n",
    "from io import BytesIO\n",
    "\n",
    "subscription_key = '41372f3b50ab4e50ad631d0e883a6b87'\n",
    "#search_url = \"https://api.cognitive.microsoft.com/bing/v7.0/images/search\"\n",
    "search_url = \"https://api.bing.microsoft.com/v7.0/images/search\"\n",
    "search_term = \"buddha cave statues\""
   ]
  },
  {
   "cell_type": "code",
   "execution_count": 128,
   "metadata": {},
   "outputs": [],
   "source": [
    "GROUP_SIZE = 500"
   ]
  },
  {
   "cell_type": "code",
   "execution_count": 129,
   "metadata": {},
   "outputs": [],
   "source": [
    "os.chdir('/Users/pradyumnaelavarthi/Downloads/Projects/Dunhuang Data/Project_mark1/')"
   ]
  },
  {
   "cell_type": "code",
   "execution_count": 130,
   "metadata": {},
   "outputs": [],
   "source": [
    "headers = {\"Ocp-Apim-Subscription-Key\" : subscription_key}"
   ]
  },
  {
   "cell_type": "code",
   "execution_count": 131,
   "metadata": {},
   "outputs": [],
   "source": [
    "params  = {\"q\": search_term, \"license\": \"public\", \"imageType\": \"photo\",\"count\": GROUP_SIZE}"
   ]
  },
  {
   "cell_type": "code",
   "execution_count": 132,
   "metadata": {},
   "outputs": [],
   "source": [
    "response = requests.get(search_url, headers=headers, params=params)\n",
    "response.raise_for_status()\n",
    "search_results = response.json()\n",
    "thumbnail_urls = [img[\"thumbnailUrl\"] for img in search_results[\"value\"][:1600]]"
   ]
  },
  {
   "cell_type": "code",
   "execution_count": 133,
   "metadata": {},
   "outputs": [
    {
     "data": {
      "text/plain": [
       "150"
      ]
     },
     "execution_count": 133,
     "metadata": {},
     "output_type": "execute_result"
    }
   ],
   "source": [
    "len(thumbnail_urls)"
   ]
  },
  {
   "cell_type": "code",
   "execution_count": 135,
   "metadata": {},
   "outputs": [],
   "source": [
    "import os\n",
    "os.chdir('Synthetic_data7/')\n",
    "count = 0\n",
    "for i in thumbnail_urls:\n",
    "    image_data = requests.get(i)\n",
    "    image_data.raise_for_status()\n",
    "    im1 = Image.open(BytesIO(image_data.content))\n",
    "    im1 = im1.save(str(count)+\".jpg\") \n",
    "    count = count + 1\n"
   ]
  }
 ],
 "metadata": {
  "kernelspec": {
   "display_name": "Python 3",
   "language": "python",
   "name": "python3"
  },
  "language_info": {
   "codemirror_mode": {
    "name": "ipython",
    "version": 3
   },
   "file_extension": ".py",
   "mimetype": "text/x-python",
   "name": "python",
   "nbconvert_exporter": "python",
   "pygments_lexer": "ipython3",
   "version": "3.6.10"
  }
 },
 "nbformat": 4,
 "nbformat_minor": 4
}
